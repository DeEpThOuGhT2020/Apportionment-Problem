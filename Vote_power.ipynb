{
 "cells": [
  {
   "cell_type": "code",
   "execution_count": 212,
   "metadata": {},
   "outputs": [],
   "source": [
    "import plotly\n",
    "import plotly.express as px\n",
    "import pandas as pd\n",
    "import geojson\n",
    "pd.options.mode.chained_assignment = None \n",
    "from geojson_rewind import rewind\n",
    "import apportionpy.apportionment as ap"
   ]
  },
  {
   "cell_type": "code",
   "execution_count": 213,
   "metadata": {},
   "outputs": [
    {
     "data": {
      "text/html": [
       "<div>\n",
       "<style scoped>\n",
       "    .dataframe tbody tr th:only-of-type {\n",
       "        vertical-align: middle;\n",
       "    }\n",
       "\n",
       "    .dataframe tbody tr th {\n",
       "        vertical-align: top;\n",
       "    }\n",
       "\n",
       "    .dataframe thead th {\n",
       "        text-align: right;\n",
       "    }\n",
       "</style>\n",
       "<table border=\"1\" class=\"dataframe\">\n",
       "  <thead>\n",
       "    <tr style=\"text-align: right;\">\n",
       "      <th></th>\n",
       "      <th>States</th>\n",
       "      <th>Pop_T</th>\n",
       "      <th>Pop_M</th>\n",
       "      <th>Pop_F</th>\n",
       "      <th>Urban_T</th>\n",
       "      <th>Urban_M</th>\n",
       "      <th>Urban_F</th>\n",
       "      <th>Rural_T</th>\n",
       "      <th>Rural_M</th>\n",
       "      <th>Rural_F</th>\n",
       "      <th>...</th>\n",
       "      <th>Jain_T</th>\n",
       "      <th>Jain_M</th>\n",
       "      <th>Jain_F</th>\n",
       "      <th>Other_T</th>\n",
       "      <th>Other_M</th>\n",
       "      <th>Other_F</th>\n",
       "      <th>NS_T</th>\n",
       "      <th>NS_M</th>\n",
       "      <th>NS_F</th>\n",
       "      <th>Seats</th>\n",
       "    </tr>\n",
       "  </thead>\n",
       "  <tbody>\n",
       "    <tr>\n",
       "      <th>0</th>\n",
       "      <td>ANDAMAN &amp; NICOBAR ISLANDS</td>\n",
       "      <td>356152.0</td>\n",
       "      <td>192972.0</td>\n",
       "      <td>163180.0</td>\n",
       "      <td>116198.0</td>\n",
       "      <td>64011.0</td>\n",
       "      <td>52187.0</td>\n",
       "      <td>239954.0</td>\n",
       "      <td>128961.0</td>\n",
       "      <td>110993.0</td>\n",
       "      <td>...</td>\n",
       "      <td>23.0</td>\n",
       "      <td>12.0</td>\n",
       "      <td>11.0</td>\n",
       "      <td>238.0</td>\n",
       "      <td>128.0</td>\n",
       "      <td>110.0</td>\n",
       "      <td>851.0</td>\n",
       "      <td>506.0</td>\n",
       "      <td>345.0</td>\n",
       "      <td>1.0</td>\n",
       "    </tr>\n",
       "    <tr>\n",
       "      <th>1</th>\n",
       "      <td>ANDHRA PRADESH</td>\n",
       "      <td>76210007.0</td>\n",
       "      <td>38527413.0</td>\n",
       "      <td>37682594.0</td>\n",
       "      <td>20808940.0</td>\n",
       "      <td>10590209.0</td>\n",
       "      <td>10218731.0</td>\n",
       "      <td>55401067.0</td>\n",
       "      <td>27937204.0</td>\n",
       "      <td>27463863.0</td>\n",
       "      <td>...</td>\n",
       "      <td>41846.0</td>\n",
       "      <td>21613.0</td>\n",
       "      <td>20233.0</td>\n",
       "      <td>4768.0</td>\n",
       "      <td>2450.0</td>\n",
       "      <td>2318.0</td>\n",
       "      <td>94934.0</td>\n",
       "      <td>49136.0</td>\n",
       "      <td>45798.0</td>\n",
       "      <td>42.0</td>\n",
       "    </tr>\n",
       "    <tr>\n",
       "      <th>2</th>\n",
       "      <td>ARUNACHAL PRADESH</td>\n",
       "      <td>1097968.0</td>\n",
       "      <td>579941.0</td>\n",
       "      <td>518027.0</td>\n",
       "      <td>227881.0</td>\n",
       "      <td>125261.0</td>\n",
       "      <td>102620.0</td>\n",
       "      <td>870087.0</td>\n",
       "      <td>454680.0</td>\n",
       "      <td>415407.0</td>\n",
       "      <td>...</td>\n",
       "      <td>216.0</td>\n",
       "      <td>130.0</td>\n",
       "      <td>86.0</td>\n",
       "      <td>337399.0</td>\n",
       "      <td>168613.0</td>\n",
       "      <td>168786.0</td>\n",
       "      <td>9302.0</td>\n",
       "      <td>4578.0</td>\n",
       "      <td>4724.0</td>\n",
       "      <td>2.0</td>\n",
       "    </tr>\n",
       "    <tr>\n",
       "      <th>3</th>\n",
       "      <td>ASSAM</td>\n",
       "      <td>26655528.0</td>\n",
       "      <td>13777037.0</td>\n",
       "      <td>12878491.0</td>\n",
       "      <td>3439240.0</td>\n",
       "      <td>1837092.0</td>\n",
       "      <td>1602148.0</td>\n",
       "      <td>23216288.0</td>\n",
       "      <td>11939945.0</td>\n",
       "      <td>11276343.0</td>\n",
       "      <td>...</td>\n",
       "      <td>23957.0</td>\n",
       "      <td>12840.0</td>\n",
       "      <td>11117.0</td>\n",
       "      <td>22999.0</td>\n",
       "      <td>11795.0</td>\n",
       "      <td>11204.0</td>\n",
       "      <td>11369.0</td>\n",
       "      <td>6017.0</td>\n",
       "      <td>5352.0</td>\n",
       "      <td>14.0</td>\n",
       "    </tr>\n",
       "    <tr>\n",
       "      <th>4</th>\n",
       "      <td>BIHAR</td>\n",
       "      <td>82998509.0</td>\n",
       "      <td>43243795.0</td>\n",
       "      <td>39754714.0</td>\n",
       "      <td>8681800.0</td>\n",
       "      <td>4648799.0</td>\n",
       "      <td>4033001.0</td>\n",
       "      <td>74316709.0</td>\n",
       "      <td>38594996.0</td>\n",
       "      <td>35721713.0</td>\n",
       "      <td>...</td>\n",
       "      <td>16085.0</td>\n",
       "      <td>8446.0</td>\n",
       "      <td>7639.0</td>\n",
       "      <td>52905.0</td>\n",
       "      <td>27336.0</td>\n",
       "      <td>25569.0</td>\n",
       "      <td>37817.0</td>\n",
       "      <td>20541.0</td>\n",
       "      <td>17276.0</td>\n",
       "      <td>40.0</td>\n",
       "    </tr>\n",
       "  </tbody>\n",
       "</table>\n",
       "<p>5 rows × 35 columns</p>\n",
       "</div>"
      ],
      "text/plain": [
       "                      States       Pop_T       Pop_M       Pop_F     Urban_T  \\\n",
       "0  ANDAMAN & NICOBAR ISLANDS    356152.0    192972.0    163180.0    116198.0   \n",
       "1             ANDHRA PRADESH  76210007.0  38527413.0  37682594.0  20808940.0   \n",
       "2          ARUNACHAL PRADESH   1097968.0    579941.0    518027.0    227881.0   \n",
       "3                      ASSAM  26655528.0  13777037.0  12878491.0   3439240.0   \n",
       "4                      BIHAR  82998509.0  43243795.0  39754714.0   8681800.0   \n",
       "\n",
       "      Urban_M     Urban_F     Rural_T     Rural_M     Rural_F  ...   Jain_T  \\\n",
       "0     64011.0     52187.0    239954.0    128961.0    110993.0  ...     23.0   \n",
       "1  10590209.0  10218731.0  55401067.0  27937204.0  27463863.0  ...  41846.0   \n",
       "2    125261.0    102620.0    870087.0    454680.0    415407.0  ...    216.0   \n",
       "3   1837092.0   1602148.0  23216288.0  11939945.0  11276343.0  ...  23957.0   \n",
       "4   4648799.0   4033001.0  74316709.0  38594996.0  35721713.0  ...  16085.0   \n",
       "\n",
       "    Jain_M   Jain_F   Other_T   Other_M   Other_F     NS_T     NS_M     NS_F  \\\n",
       "0     12.0     11.0     238.0     128.0     110.0    851.0    506.0    345.0   \n",
       "1  21613.0  20233.0    4768.0    2450.0    2318.0  94934.0  49136.0  45798.0   \n",
       "2    130.0     86.0  337399.0  168613.0  168786.0   9302.0   4578.0   4724.0   \n",
       "3  12840.0  11117.0   22999.0   11795.0   11204.0  11369.0   6017.0   5352.0   \n",
       "4   8446.0   7639.0   52905.0   27336.0   25569.0  37817.0  20541.0  17276.0   \n",
       "\n",
       "   Seats  \n",
       "0    1.0  \n",
       "1   42.0  \n",
       "2    2.0  \n",
       "3   14.0  \n",
       "4   40.0  \n",
       "\n",
       "[5 rows x 35 columns]"
      ]
     },
     "execution_count": 213,
     "metadata": {},
     "output_type": "execute_result"
    }
   ],
   "source": [
    "df = pd.read_csv('Final_Data/PC01_C01_00.csv')\n",
    "df.head()"
   ]
  },
  {
   "cell_type": "code",
   "execution_count": 214,
   "metadata": {},
   "outputs": [
    {
     "data": {
      "text/html": [
       "<div>\n",
       "<style scoped>\n",
       "    .dataframe tbody tr th:only-of-type {\n",
       "        vertical-align: middle;\n",
       "    }\n",
       "\n",
       "    .dataframe tbody tr th {\n",
       "        vertical-align: top;\n",
       "    }\n",
       "\n",
       "    .dataframe thead th {\n",
       "        text-align: right;\n",
       "    }\n",
       "</style>\n",
       "<table border=\"1\" class=\"dataframe\">\n",
       "  <thead>\n",
       "    <tr style=\"text-align: right;\">\n",
       "      <th></th>\n",
       "      <th>States</th>\n",
       "      <th>Pop_T</th>\n",
       "      <th>Pop_M</th>\n",
       "      <th>Pop_F</th>\n",
       "      <th>Urban_T</th>\n",
       "      <th>Urban_M</th>\n",
       "      <th>Urban_F</th>\n",
       "      <th>Rural_T</th>\n",
       "      <th>Rural_M</th>\n",
       "      <th>Rural_F</th>\n",
       "      <th>...</th>\n",
       "      <th>Other_F</th>\n",
       "      <th>NS_T</th>\n",
       "      <th>NS_M</th>\n",
       "      <th>NS_F</th>\n",
       "      <th>Seats</th>\n",
       "      <th>hamilton</th>\n",
       "      <th>adam</th>\n",
       "      <th>webster</th>\n",
       "      <th>jefferson</th>\n",
       "      <th>huntington hill</th>\n",
       "    </tr>\n",
       "  </thead>\n",
       "  <tbody>\n",
       "    <tr>\n",
       "      <th>0</th>\n",
       "      <td>ANDAMAN &amp; NICOBAR ISLANDS</td>\n",
       "      <td>356152.0</td>\n",
       "      <td>192972.0</td>\n",
       "      <td>163180.0</td>\n",
       "      <td>116198.0</td>\n",
       "      <td>64011.0</td>\n",
       "      <td>52187.0</td>\n",
       "      <td>239954.0</td>\n",
       "      <td>128961.0</td>\n",
       "      <td>110993.0</td>\n",
       "      <td>...</td>\n",
       "      <td>110.0</td>\n",
       "      <td>851.0</td>\n",
       "      <td>506.0</td>\n",
       "      <td>345.0</td>\n",
       "      <td>1.0</td>\n",
       "      <td>0</td>\n",
       "      <td>1</td>\n",
       "      <td>0</td>\n",
       "      <td>0</td>\n",
       "      <td>1</td>\n",
       "    </tr>\n",
       "    <tr>\n",
       "      <th>1</th>\n",
       "      <td>ANDHRA PRADESH</td>\n",
       "      <td>76210007.0</td>\n",
       "      <td>38527413.0</td>\n",
       "      <td>37682594.0</td>\n",
       "      <td>20808940.0</td>\n",
       "      <td>10590209.0</td>\n",
       "      <td>10218731.0</td>\n",
       "      <td>55401067.0</td>\n",
       "      <td>27937204.0</td>\n",
       "      <td>27463863.0</td>\n",
       "      <td>...</td>\n",
       "      <td>2318.0</td>\n",
       "      <td>94934.0</td>\n",
       "      <td>49136.0</td>\n",
       "      <td>45798.0</td>\n",
       "      <td>42.0</td>\n",
       "      <td>40</td>\n",
       "      <td>39</td>\n",
       "      <td>40</td>\n",
       "      <td>41</td>\n",
       "      <td>40</td>\n",
       "    </tr>\n",
       "    <tr>\n",
       "      <th>2</th>\n",
       "      <td>ARUNACHAL PRADESH</td>\n",
       "      <td>1097968.0</td>\n",
       "      <td>579941.0</td>\n",
       "      <td>518027.0</td>\n",
       "      <td>227881.0</td>\n",
       "      <td>125261.0</td>\n",
       "      <td>102620.0</td>\n",
       "      <td>870087.0</td>\n",
       "      <td>454680.0</td>\n",
       "      <td>415407.0</td>\n",
       "      <td>...</td>\n",
       "      <td>168786.0</td>\n",
       "      <td>9302.0</td>\n",
       "      <td>4578.0</td>\n",
       "      <td>4724.0</td>\n",
       "      <td>2.0</td>\n",
       "      <td>1</td>\n",
       "      <td>1</td>\n",
       "      <td>1</td>\n",
       "      <td>0</td>\n",
       "      <td>1</td>\n",
       "    </tr>\n",
       "    <tr>\n",
       "      <th>3</th>\n",
       "      <td>ASSAM</td>\n",
       "      <td>26655528.0</td>\n",
       "      <td>13777037.0</td>\n",
       "      <td>12878491.0</td>\n",
       "      <td>3439240.0</td>\n",
       "      <td>1837092.0</td>\n",
       "      <td>1602148.0</td>\n",
       "      <td>23216288.0</td>\n",
       "      <td>11939945.0</td>\n",
       "      <td>11276343.0</td>\n",
       "      <td>...</td>\n",
       "      <td>11204.0</td>\n",
       "      <td>11369.0</td>\n",
       "      <td>6017.0</td>\n",
       "      <td>5352.0</td>\n",
       "      <td>14.0</td>\n",
       "      <td>14</td>\n",
       "      <td>14</td>\n",
       "      <td>14</td>\n",
       "      <td>14</td>\n",
       "      <td>14</td>\n",
       "    </tr>\n",
       "    <tr>\n",
       "      <th>4</th>\n",
       "      <td>BIHAR</td>\n",
       "      <td>82998509.0</td>\n",
       "      <td>43243795.0</td>\n",
       "      <td>39754714.0</td>\n",
       "      <td>8681800.0</td>\n",
       "      <td>4648799.0</td>\n",
       "      <td>4033001.0</td>\n",
       "      <td>74316709.0</td>\n",
       "      <td>38594996.0</td>\n",
       "      <td>35721713.0</td>\n",
       "      <td>...</td>\n",
       "      <td>25569.0</td>\n",
       "      <td>37817.0</td>\n",
       "      <td>20541.0</td>\n",
       "      <td>17276.0</td>\n",
       "      <td>40.0</td>\n",
       "      <td>44</td>\n",
       "      <td>43</td>\n",
       "      <td>44</td>\n",
       "      <td>45</td>\n",
       "      <td>43</td>\n",
       "    </tr>\n",
       "  </tbody>\n",
       "</table>\n",
       "<p>5 rows × 40 columns</p>\n",
       "</div>"
      ],
      "text/plain": [
       "                      States       Pop_T       Pop_M       Pop_F     Urban_T  \\\n",
       "0  ANDAMAN & NICOBAR ISLANDS    356152.0    192972.0    163180.0    116198.0   \n",
       "1             ANDHRA PRADESH  76210007.0  38527413.0  37682594.0  20808940.0   \n",
       "2          ARUNACHAL PRADESH   1097968.0    579941.0    518027.0    227881.0   \n",
       "3                      ASSAM  26655528.0  13777037.0  12878491.0   3439240.0   \n",
       "4                      BIHAR  82998509.0  43243795.0  39754714.0   8681800.0   \n",
       "\n",
       "      Urban_M     Urban_F     Rural_T     Rural_M     Rural_F  ...   Other_F  \\\n",
       "0     64011.0     52187.0    239954.0    128961.0    110993.0  ...     110.0   \n",
       "1  10590209.0  10218731.0  55401067.0  27937204.0  27463863.0  ...    2318.0   \n",
       "2    125261.0    102620.0    870087.0    454680.0    415407.0  ...  168786.0   \n",
       "3   1837092.0   1602148.0  23216288.0  11939945.0  11276343.0  ...   11204.0   \n",
       "4   4648799.0   4033001.0  74316709.0  38594996.0  35721713.0  ...   25569.0   \n",
       "\n",
       "      NS_T     NS_M     NS_F  Seats  hamilton  adam  webster  jefferson  \\\n",
       "0    851.0    506.0    345.0    1.0         0     1        0          0   \n",
       "1  94934.0  49136.0  45798.0   42.0        40    39       40         41   \n",
       "2   9302.0   4578.0   4724.0    2.0         1     1        1          0   \n",
       "3  11369.0   6017.0   5352.0   14.0        14    14       14         14   \n",
       "4  37817.0  20541.0  17276.0   40.0        44    43       44         45   \n",
       "\n",
       "   huntington hill  \n",
       "0                1  \n",
       "1               40  \n",
       "2                1  \n",
       "3               14  \n",
       "4               43  \n",
       "\n",
       "[5 rows x 40 columns]"
      ]
     },
     "execution_count": 214,
     "metadata": {},
     "output_type": "execute_result"
    }
   ],
   "source": [
    "methods = [\"hamilton\",\"adam\",\"webster\",\"jefferson\",\"huntington hill\"]\n",
    "df.fillna(0)\n",
    "seats = df.loc[len(df.index)-1].at['Seats']\n",
    "populations = df['Pop_T'][:-2]\n",
    "for i in range(len(methods)):\n",
    "    result = ap.Apportion(seats=seats, populations=populations, method=methods[i]).fair_shares\n",
    "    result.append(0)\n",
    "    result.append(sum(result))\n",
    "    df[methods[i]] = result\n",
    "df.head()\n"
   ]
  },
  {
   "cell_type": "code",
   "execution_count": 215,
   "metadata": {},
   "outputs": [],
   "source": [
    "def voting_power(method , comm):\n",
    "    vote_p = df[comm]/df['Pop_T'] * df[method]\n",
    "    Total_seats = df.loc[len(df.index)-1].at[method]\n",
    "    Pop_of_comm = df.loc[len(df.index)-1].at[comm]\n",
    "    Pop_of_india = df.loc[len(df.index)-1].at['Pop_T']\n",
    "    return sum(vote_p[:-2]) - Total_seats * Pop_of_comm/Pop_of_india\n",
    "\n",
    "voting_power('hamilton','Urban_T')  \n",
    "x = [\"Seats\", \"hamilton\",\"adam\",\"webster\",\"jefferson\",\"huntington hill\"]\n",
    "def voting_pow_y(comm):\n",
    "    ans = []\n",
    "    for elem in x:\n",
    "        ans.append(voting_power(elem,comm))\n",
    "    return ans\n"
   ]
  },
  {
   "cell_type": "code",
   "execution_count": 216,
   "metadata": {},
   "outputs": [
    {
     "data": {
      "application/vnd.plotly.v1+json": {
       "config": {
        "plotlyServerURL": "https://plot.ly"
       },
       "data": [
        {
         "hovertemplate": "Community=%{x}<br>Voting Power=%{y}<extra></extra>",
         "legendgroup": "",
         "line": {
          "color": "#636efa",
          "dash": "solid"
         },
         "marker": {
          "symbol": "circle"
         },
         "mode": "lines",
         "name": "",
         "orientation": "v",
         "showlegend": false,
         "type": "scatter",
         "x": [
          "Male",
          "Female",
          "Urban",
          "Rural",
          "Hindu",
          "Muslim",
          "Christian",
          "Sikh"
         ],
         "xaxis": "x",
         "y": [
          -0.26406879835576547,
          0.2640687983558223,
          2.112222893914037,
          -2.1122228939140086,
          -3.868011654316149,
          -0.04682938891787103,
          3.1505382892310205,
          0.02408926525182231
         ],
         "yaxis": "y"
        },
        {
         "name": "hamilton",
         "type": "scatter",
         "x": [
          "Male",
          "Female",
          "Urban",
          "Rural",
          "Hindu",
          "Muslim",
          "Christian",
          "Sikh"
         ],
         "y": [
          -0.010639698810109621,
          0.010639698810109621,
          0.3424104025896497,
          -0.34241040258956446,
          0.5743879929755735,
          -0.20120367785754922,
          -0.5070406222740829,
          0.152212976676795
         ]
        },
        {
         "name": "adam",
         "type": "scatter",
         "x": [
          "Male",
          "Female",
          "Urban",
          "Rural",
          "Hindu",
          "Muslim",
          "Christian",
          "Sikh"
         ],
         "y": [
          0.13678287046008109,
          -0.13678287046008109,
          0.8660704852185859,
          -0.8660704852185859,
          -3.558015590613934,
          0.33624515190609827,
          2.5317117044910855,
          0.20163533326926597
         ]
        },
        {
         "name": "webster",
         "type": "scatter",
         "x": [
          "Male",
          "Female",
          "Urban",
          "Rural",
          "Hindu",
          "Muslim",
          "Christian",
          "Sikh"
         ],
         "y": [
          -0.0664905062951675,
          0.0664905062951675,
          -0.40540024547320286,
          0.4054002454732881,
          0.7318257299820061,
          -0.21997011496907248,
          -0.4911137841921178,
          -0.008503583186751484
         ]
        },
        {
         "name": "jefferson",
         "type": "scatter",
         "x": [
          "Male",
          "Female",
          "Urban",
          "Rural",
          "Hindu",
          "Muslim",
          "Christian",
          "Sikh"
         ],
         "y": [
          -0.016591982620184353,
          0.016591982620241197,
          -0.8561374552813845,
          0.8561374552814982,
          1.073975945636107,
          0.39779043054915064,
          -1.038168088420365,
          -0.024985345964525507
         ]
        },
        {
         "name": "huntington hill",
         "type": "scatter",
         "x": [
          "Male",
          "Female",
          "Urban",
          "Rural",
          "Hindu",
          "Muslim",
          "Christian",
          "Sikh"
         ],
         "y": [
          0.11123948594439526,
          -0.11123948594439526,
          0.8705328687979375,
          -0.870532868797909,
          -1.397497280002085,
          0.2599322074696033,
          0.6884420556500803,
          0.11359636958629693
         ]
        }
       ],
       "layout": {
        "legend": {
         "tracegroupgap": 0
        },
        "template": {
         "data": {
          "bar": [
           {
            "error_x": {
             "color": "#2a3f5f"
            },
            "error_y": {
             "color": "#2a3f5f"
            },
            "marker": {
             "line": {
              "color": "#E5ECF6",
              "width": 0.5
             },
             "pattern": {
              "fillmode": "overlay",
              "size": 10,
              "solidity": 0.2
             }
            },
            "type": "bar"
           }
          ],
          "barpolar": [
           {
            "marker": {
             "line": {
              "color": "#E5ECF6",
              "width": 0.5
             },
             "pattern": {
              "fillmode": "overlay",
              "size": 10,
              "solidity": 0.2
             }
            },
            "type": "barpolar"
           }
          ],
          "carpet": [
           {
            "aaxis": {
             "endlinecolor": "#2a3f5f",
             "gridcolor": "white",
             "linecolor": "white",
             "minorgridcolor": "white",
             "startlinecolor": "#2a3f5f"
            },
            "baxis": {
             "endlinecolor": "#2a3f5f",
             "gridcolor": "white",
             "linecolor": "white",
             "minorgridcolor": "white",
             "startlinecolor": "#2a3f5f"
            },
            "type": "carpet"
           }
          ],
          "choropleth": [
           {
            "colorbar": {
             "outlinewidth": 0,
             "ticks": ""
            },
            "type": "choropleth"
           }
          ],
          "contour": [
           {
            "colorbar": {
             "outlinewidth": 0,
             "ticks": ""
            },
            "colorscale": [
             [
              0,
              "#0d0887"
             ],
             [
              0.1111111111111111,
              "#46039f"
             ],
             [
              0.2222222222222222,
              "#7201a8"
             ],
             [
              0.3333333333333333,
              "#9c179e"
             ],
             [
              0.4444444444444444,
              "#bd3786"
             ],
             [
              0.5555555555555556,
              "#d8576b"
             ],
             [
              0.6666666666666666,
              "#ed7953"
             ],
             [
              0.7777777777777778,
              "#fb9f3a"
             ],
             [
              0.8888888888888888,
              "#fdca26"
             ],
             [
              1,
              "#f0f921"
             ]
            ],
            "type": "contour"
           }
          ],
          "contourcarpet": [
           {
            "colorbar": {
             "outlinewidth": 0,
             "ticks": ""
            },
            "type": "contourcarpet"
           }
          ],
          "heatmap": [
           {
            "colorbar": {
             "outlinewidth": 0,
             "ticks": ""
            },
            "colorscale": [
             [
              0,
              "#0d0887"
             ],
             [
              0.1111111111111111,
              "#46039f"
             ],
             [
              0.2222222222222222,
              "#7201a8"
             ],
             [
              0.3333333333333333,
              "#9c179e"
             ],
             [
              0.4444444444444444,
              "#bd3786"
             ],
             [
              0.5555555555555556,
              "#d8576b"
             ],
             [
              0.6666666666666666,
              "#ed7953"
             ],
             [
              0.7777777777777778,
              "#fb9f3a"
             ],
             [
              0.8888888888888888,
              "#fdca26"
             ],
             [
              1,
              "#f0f921"
             ]
            ],
            "type": "heatmap"
           }
          ],
          "heatmapgl": [
           {
            "colorbar": {
             "outlinewidth": 0,
             "ticks": ""
            },
            "colorscale": [
             [
              0,
              "#0d0887"
             ],
             [
              0.1111111111111111,
              "#46039f"
             ],
             [
              0.2222222222222222,
              "#7201a8"
             ],
             [
              0.3333333333333333,
              "#9c179e"
             ],
             [
              0.4444444444444444,
              "#bd3786"
             ],
             [
              0.5555555555555556,
              "#d8576b"
             ],
             [
              0.6666666666666666,
              "#ed7953"
             ],
             [
              0.7777777777777778,
              "#fb9f3a"
             ],
             [
              0.8888888888888888,
              "#fdca26"
             ],
             [
              1,
              "#f0f921"
             ]
            ],
            "type": "heatmapgl"
           }
          ],
          "histogram": [
           {
            "marker": {
             "pattern": {
              "fillmode": "overlay",
              "size": 10,
              "solidity": 0.2
             }
            },
            "type": "histogram"
           }
          ],
          "histogram2d": [
           {
            "colorbar": {
             "outlinewidth": 0,
             "ticks": ""
            },
            "colorscale": [
             [
              0,
              "#0d0887"
             ],
             [
              0.1111111111111111,
              "#46039f"
             ],
             [
              0.2222222222222222,
              "#7201a8"
             ],
             [
              0.3333333333333333,
              "#9c179e"
             ],
             [
              0.4444444444444444,
              "#bd3786"
             ],
             [
              0.5555555555555556,
              "#d8576b"
             ],
             [
              0.6666666666666666,
              "#ed7953"
             ],
             [
              0.7777777777777778,
              "#fb9f3a"
             ],
             [
              0.8888888888888888,
              "#fdca26"
             ],
             [
              1,
              "#f0f921"
             ]
            ],
            "type": "histogram2d"
           }
          ],
          "histogram2dcontour": [
           {
            "colorbar": {
             "outlinewidth": 0,
             "ticks": ""
            },
            "colorscale": [
             [
              0,
              "#0d0887"
             ],
             [
              0.1111111111111111,
              "#46039f"
             ],
             [
              0.2222222222222222,
              "#7201a8"
             ],
             [
              0.3333333333333333,
              "#9c179e"
             ],
             [
              0.4444444444444444,
              "#bd3786"
             ],
             [
              0.5555555555555556,
              "#d8576b"
             ],
             [
              0.6666666666666666,
              "#ed7953"
             ],
             [
              0.7777777777777778,
              "#fb9f3a"
             ],
             [
              0.8888888888888888,
              "#fdca26"
             ],
             [
              1,
              "#f0f921"
             ]
            ],
            "type": "histogram2dcontour"
           }
          ],
          "mesh3d": [
           {
            "colorbar": {
             "outlinewidth": 0,
             "ticks": ""
            },
            "type": "mesh3d"
           }
          ],
          "parcoords": [
           {
            "line": {
             "colorbar": {
              "outlinewidth": 0,
              "ticks": ""
             }
            },
            "type": "parcoords"
           }
          ],
          "pie": [
           {
            "automargin": true,
            "type": "pie"
           }
          ],
          "scatter": [
           {
            "fillpattern": {
             "fillmode": "overlay",
             "size": 10,
             "solidity": 0.2
            },
            "type": "scatter"
           }
          ],
          "scatter3d": [
           {
            "line": {
             "colorbar": {
              "outlinewidth": 0,
              "ticks": ""
             }
            },
            "marker": {
             "colorbar": {
              "outlinewidth": 0,
              "ticks": ""
             }
            },
            "type": "scatter3d"
           }
          ],
          "scattercarpet": [
           {
            "marker": {
             "colorbar": {
              "outlinewidth": 0,
              "ticks": ""
             }
            },
            "type": "scattercarpet"
           }
          ],
          "scattergeo": [
           {
            "marker": {
             "colorbar": {
              "outlinewidth": 0,
              "ticks": ""
             }
            },
            "type": "scattergeo"
           }
          ],
          "scattergl": [
           {
            "marker": {
             "colorbar": {
              "outlinewidth": 0,
              "ticks": ""
             }
            },
            "type": "scattergl"
           }
          ],
          "scattermapbox": [
           {
            "marker": {
             "colorbar": {
              "outlinewidth": 0,
              "ticks": ""
             }
            },
            "type": "scattermapbox"
           }
          ],
          "scatterpolar": [
           {
            "marker": {
             "colorbar": {
              "outlinewidth": 0,
              "ticks": ""
             }
            },
            "type": "scatterpolar"
           }
          ],
          "scatterpolargl": [
           {
            "marker": {
             "colorbar": {
              "outlinewidth": 0,
              "ticks": ""
             }
            },
            "type": "scatterpolargl"
           }
          ],
          "scatterternary": [
           {
            "marker": {
             "colorbar": {
              "outlinewidth": 0,
              "ticks": ""
             }
            },
            "type": "scatterternary"
           }
          ],
          "surface": [
           {
            "colorbar": {
             "outlinewidth": 0,
             "ticks": ""
            },
            "colorscale": [
             [
              0,
              "#0d0887"
             ],
             [
              0.1111111111111111,
              "#46039f"
             ],
             [
              0.2222222222222222,
              "#7201a8"
             ],
             [
              0.3333333333333333,
              "#9c179e"
             ],
             [
              0.4444444444444444,
              "#bd3786"
             ],
             [
              0.5555555555555556,
              "#d8576b"
             ],
             [
              0.6666666666666666,
              "#ed7953"
             ],
             [
              0.7777777777777778,
              "#fb9f3a"
             ],
             [
              0.8888888888888888,
              "#fdca26"
             ],
             [
              1,
              "#f0f921"
             ]
            ],
            "type": "surface"
           }
          ],
          "table": [
           {
            "cells": {
             "fill": {
              "color": "#EBF0F8"
             },
             "line": {
              "color": "white"
             }
            },
            "header": {
             "fill": {
              "color": "#C8D4E3"
             },
             "line": {
              "color": "white"
             }
            },
            "type": "table"
           }
          ]
         },
         "layout": {
          "annotationdefaults": {
           "arrowcolor": "#2a3f5f",
           "arrowhead": 0,
           "arrowwidth": 1
          },
          "autotypenumbers": "strict",
          "coloraxis": {
           "colorbar": {
            "outlinewidth": 0,
            "ticks": ""
           }
          },
          "colorscale": {
           "diverging": [
            [
             0,
             "#8e0152"
            ],
            [
             0.1,
             "#c51b7d"
            ],
            [
             0.2,
             "#de77ae"
            ],
            [
             0.3,
             "#f1b6da"
            ],
            [
             0.4,
             "#fde0ef"
            ],
            [
             0.5,
             "#f7f7f7"
            ],
            [
             0.6,
             "#e6f5d0"
            ],
            [
             0.7,
             "#b8e186"
            ],
            [
             0.8,
             "#7fbc41"
            ],
            [
             0.9,
             "#4d9221"
            ],
            [
             1,
             "#276419"
            ]
           ],
           "sequential": [
            [
             0,
             "#0d0887"
            ],
            [
             0.1111111111111111,
             "#46039f"
            ],
            [
             0.2222222222222222,
             "#7201a8"
            ],
            [
             0.3333333333333333,
             "#9c179e"
            ],
            [
             0.4444444444444444,
             "#bd3786"
            ],
            [
             0.5555555555555556,
             "#d8576b"
            ],
            [
             0.6666666666666666,
             "#ed7953"
            ],
            [
             0.7777777777777778,
             "#fb9f3a"
            ],
            [
             0.8888888888888888,
             "#fdca26"
            ],
            [
             1,
             "#f0f921"
            ]
           ],
           "sequentialminus": [
            [
             0,
             "#0d0887"
            ],
            [
             0.1111111111111111,
             "#46039f"
            ],
            [
             0.2222222222222222,
             "#7201a8"
            ],
            [
             0.3333333333333333,
             "#9c179e"
            ],
            [
             0.4444444444444444,
             "#bd3786"
            ],
            [
             0.5555555555555556,
             "#d8576b"
            ],
            [
             0.6666666666666666,
             "#ed7953"
            ],
            [
             0.7777777777777778,
             "#fb9f3a"
            ],
            [
             0.8888888888888888,
             "#fdca26"
            ],
            [
             1,
             "#f0f921"
            ]
           ]
          },
          "colorway": [
           "#636efa",
           "#EF553B",
           "#00cc96",
           "#ab63fa",
           "#FFA15A",
           "#19d3f3",
           "#FF6692",
           "#B6E880",
           "#FF97FF",
           "#FECB52"
          ],
          "font": {
           "color": "#2a3f5f"
          },
          "geo": {
           "bgcolor": "white",
           "lakecolor": "white",
           "landcolor": "#E5ECF6",
           "showlakes": true,
           "showland": true,
           "subunitcolor": "white"
          },
          "hoverlabel": {
           "align": "left"
          },
          "hovermode": "closest",
          "mapbox": {
           "style": "light"
          },
          "paper_bgcolor": "white",
          "plot_bgcolor": "#E5ECF6",
          "polar": {
           "angularaxis": {
            "gridcolor": "white",
            "linecolor": "white",
            "ticks": ""
           },
           "bgcolor": "#E5ECF6",
           "radialaxis": {
            "gridcolor": "white",
            "linecolor": "white",
            "ticks": ""
           }
          },
          "scene": {
           "xaxis": {
            "backgroundcolor": "#E5ECF6",
            "gridcolor": "white",
            "gridwidth": 2,
            "linecolor": "white",
            "showbackground": true,
            "ticks": "",
            "zerolinecolor": "white"
           },
           "yaxis": {
            "backgroundcolor": "#E5ECF6",
            "gridcolor": "white",
            "gridwidth": 2,
            "linecolor": "white",
            "showbackground": true,
            "ticks": "",
            "zerolinecolor": "white"
           },
           "zaxis": {
            "backgroundcolor": "#E5ECF6",
            "gridcolor": "white",
            "gridwidth": 2,
            "linecolor": "white",
            "showbackground": true,
            "ticks": "",
            "zerolinecolor": "white"
           }
          },
          "shapedefaults": {
           "line": {
            "color": "#2a3f5f"
           }
          },
          "ternary": {
           "aaxis": {
            "gridcolor": "white",
            "linecolor": "white",
            "ticks": ""
           },
           "baxis": {
            "gridcolor": "white",
            "linecolor": "white",
            "ticks": ""
           },
           "bgcolor": "#E5ECF6",
           "caxis": {
            "gridcolor": "white",
            "linecolor": "white",
            "ticks": ""
           }
          },
          "title": {
           "x": 0.05
          },
          "xaxis": {
           "automargin": true,
           "gridcolor": "white",
           "linecolor": "white",
           "ticks": "",
           "title": {
            "standoff": 15
           },
           "zerolinecolor": "white",
           "zerolinewidth": 2
          },
          "yaxis": {
           "automargin": true,
           "gridcolor": "white",
           "linecolor": "white",
           "ticks": "",
           "title": {
            "standoff": 15
           },
           "zerolinecolor": "white",
           "zerolinewidth": 2
          }
         }
        },
        "title": {
         "text": "Voting Power"
        },
        "xaxis": {
         "anchor": "y",
         "domain": [
          0,
          1
         ],
         "title": {
          "text": "Community"
         }
        },
        "yaxis": {
         "anchor": "x",
         "domain": [
          0,
          1
         ],
         "title": {
          "text": "Voting Power"
         }
        }
       }
      }
     },
     "metadata": {},
     "output_type": "display_data"
    }
   ],
   "source": [
    "community = [\"Male\" , \"Female\" , \"Urban\" , \"Rural\" , \"Hindu\" , \"Muslim\" , \"Christian\" , \"Sikh\" ]\n",
    "community_code = [\"Pop_M\" , \"Pop_F\" , \"Urban_T\" , \"Rural_T\" , \"Hindu_T\" , \"Muslim_T\" , \"Christian_T\" , \"Sikh_T\" ]\n",
    "\n",
    "y_Seats = []\n",
    "y_hamilton = []\n",
    "y_adam = []\n",
    "y_webster = []\n",
    "y_jefferson = []\n",
    "y_huntington_hill = []\n",
    "for i in range(len(community)):\n",
    "    y_Seats.append(voting_power(\"Seats\",community_code[i]))\n",
    "    y_hamilton.append(voting_power(\"hamilton\",community_code[i]))\n",
    "    y_adam.append(voting_power(\"adam\",community_code[i]))\n",
    "    y_webster.append(voting_power(\"webster\",community_code[i]))\n",
    "    y_jefferson.append(voting_power(\"jefferson\",community_code[i]))\n",
    "    y_huntington_hill.append(voting_power(\"huntington hill\",community_code[i]))\n",
    "\n",
    "df1 = pd.DataFrame(list(zip(community, y_Seats, y_hamilton, y_adam, y_webster, y_jefferson, y_huntington_hill)),\n",
    "                columns =['Community', 'Seats', 'hamilton', 'adam', 'webster', 'jefferson', 'huntington hill'])\n",
    "df1.head()\n",
    "fig = px.line(x = community , y = y_Seats , title = \"Voting Power\", labels = {\"x\" : \"Community\" , \"y\" : \"Voting Power\"})\n",
    "fig.add_scatter(x = community , y = y_hamilton , name = 'hamilton')\n",
    "fig.add_scatter(x = community , y = y_adam , name = 'adam')\n",
    "fig.add_scatter(x = community , y = y_webster , name = 'webster')\n",
    "fig.add_scatter(x = community , y = y_jefferson , name = 'jefferson')\n",
    "fig.add_scatter(x = community , y = y_huntington_hill , name = 'huntington hill')\n",
    "fig.show()\n",
    "\n",
    "\n",
    "\n"
   ]
  }
 ],
 "metadata": {
  "kernelspec": {
   "display_name": ".venv",
   "language": "python",
   "name": ".venv"
  },
  "language_info": {
   "codemirror_mode": {
    "name": "ipython",
    "version": 3
   },
   "file_extension": ".py",
   "mimetype": "text/x-python",
   "name": "python",
   "nbconvert_exporter": "python",
   "pygments_lexer": "ipython3",
   "version": "3.9.10"
  },
  "orig_nbformat": 4,
  "vscode": {
   "interpreter": {
    "hash": "b0fa6594d8f4cbf19f97940f81e996739fb7646882a419484c72d19e05852a7e"
   }
  }
 },
 "nbformat": 4,
 "nbformat_minor": 2
}
