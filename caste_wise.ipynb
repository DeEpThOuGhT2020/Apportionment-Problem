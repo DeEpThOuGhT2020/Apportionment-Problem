{
 "cells": [
  {
   "cell_type": "code",
   "execution_count": 4,
   "metadata": {},
   "outputs": [
    {
     "data": {
      "text/plain": [
       "'HTML/Difference_ST.html'"
      ]
     },
     "execution_count": 4,
     "metadata": {},
     "output_type": "execute_result"
    }
   ],
   "source": [
    "import plotly\n",
    "import pandas as pd\n",
    "import geojson\n",
    "pd.options.mode.chained_assignment = None \n",
    "from geojson_rewind import rewind\n",
    "\n",
    "years = [2019, 2014, 2009, 2004 , 1999 , 1996 , 1991 , 1989 , 1984 , 1980 , 1977 , 1971 , 1967 ]\n",
    "# years = [2014,2009,2004 , 1999 , 1996 , 1991 , 1989 , 1984 , 1980 , 1977 , 1971 , 1967 ]\n",
    "to_see = ['Difference_SC','Difference_ST']\n",
    "to_use = 1\n",
    "color_range = [-10,10]\n",
    "filepath = 'HTML/' + str(to_see[to_use]) + '.html'\n",
    "\n",
    "df_list = []\n",
    "for yer in years:\n",
    "    df_year = pd.read_csv('Final_Data/' + str(yer) + '/' + str(yer) + ' copy.csv')\n",
    "    df_list.append(df_year)\n",
    "\n",
    "i = 0\n",
    "for df_ in df_list:\n",
    "    df_ = df_.fillna(0)\n",
    "    df_['Difference_SC'] = df_['SC'] - df_['SC_T']*df_['Seats']/df_['Electors']\n",
    "    df_['Difference_ST'] = df_['ST'] - df_['ST_T']*df_['Seats']/df_['Electors']\n",
    "    df_list[i] = df_\n",
    "    i += 1\n",
    "\n",
    "def hover_text(df):\n",
    "    df['text'] = \"\"\n",
    "    for ind in df.index:\n",
    "        df['text'][ind] =  \"No. of Seats:\" + str(df['Seats'][ind]) + \"         Quota:\" + str(df['Quota'][ind]) + \"         \" + to_see[to_use] + \":\" + str(df[to_see[to_use]][ind]) + \"    Electors:\" + str(df['Electors'][ind]) \n",
    "        \n",
    "for x in df_list:\n",
    "    hover_text(x)\n",
    "\n",
    "geojson_list = []\n",
    "for yer in years:\n",
    "    with open('/Users/sunidhisingh/Desktop/Coursework/COD300/Code/Geojson/' + str(yer) + '.json') as f:\n",
    "        gj = geojson.load(f)\n",
    "        gj = rewind(gj, rfc7946=False)\n",
    "    geojson_list.append(gj)\n",
    "\n",
    "data = []\n",
    "\n",
    "for i in range(0,len(df_list)):\n",
    "    temp_data = dict(type='choropleth', \n",
    "                    locations = df_list[i]['State/UT'].astype(str),\n",
    "                    z = df_list[i][to_see[to_use]].astype(str),\n",
    "                    zmin=color_range[0], zmax=color_range[1],\n",
    "                    geojson = geojson_list[i],\n",
    "                    featureidkey='properties.ST_NM',\n",
    "                    text = df_list[i]['text']\n",
    "             ,colorscale = [[0, 'rgba(214, 39, 40, 0.85)'],   \n",
    "                   [0.5, 'rgba(255, 255, 255, 0.85)'],  \n",
    "                   [1, 'rgba(6,54,21, 0.85)']]  \n",
    "            )\n",
    "    data.append(temp_data)\n",
    "    \n",
    "steps = []\n",
    "for i in range(len(data)):\n",
    "\tstep = dict(method='restyle',args=['visible', [j==i for j in range(len(data))]],label='Year {}'.format(years[i]))\n",
    "\tsteps.append(step)\n",
    "\n",
    "sliders = [dict(active=0, pad={\"t\": 1}, steps=steps)]\n",
    "layout = dict(sliders=sliders,geo = dict(fitbounds=\"locations\", visible=False))\n",
    "fig = dict(data=data,layout=layout)\n",
    "\n",
    "# plotly.offline.iplot(fig)\n",
    "plotly.offline.plot(fig, filename=filepath,auto_open=False)"
   ]
  }
 ],
 "metadata": {
  "kernelspec": {
   "display_name": "Python 3.9.10 ('venv': venv)",
   "language": "python",
   "name": "python3"
  },
  "language_info": {
   "codemirror_mode": {
    "name": "ipython",
    "version": 3
   },
   "file_extension": ".py",
   "mimetype": "text/x-python",
   "name": "python",
   "nbconvert_exporter": "python",
   "pygments_lexer": "ipython3",
   "version": "3.9.10"
  },
  "orig_nbformat": 4,
  "vscode": {
   "interpreter": {
    "hash": "805c011a51fe97ca5d812a91ec4c25a591b42d176e2f6f834ada3171fa470fd3"
   }
  }
 },
 "nbformat": 4,
 "nbformat_minor": 2
}
