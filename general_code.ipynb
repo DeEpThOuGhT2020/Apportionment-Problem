{
 "cells": [
  {
   "cell_type": "code",
   "execution_count": 17,
   "metadata": {},
   "outputs": [
    {
     "data": {
      "text/plain": [
       "'HTML/Hamilton.html'"
      ]
     },
     "execution_count": 17,
     "metadata": {},
     "output_type": "execute_result"
    }
   ],
   "source": [
    "import plotly\n",
    "import pandas as pd\n",
    "import geojson\n",
    "pd.options.mode.chained_assignment = None \n",
    "from geojson_rewind import rewind\n",
    "import apportionpy.apportionment as ap\n",
    "\n",
    "years = [2019, 2014, 2009, 2004 , 1999 , 1996 , 1991 , 1989 , 1984 , 1980 , 1977 , 1971 , 1967 ]\n",
    "methods = [\"hamilton\",\"adam\",\"webster\",\"jefferson\",\"huntington hill\"]\n",
    "to_use = 0\n",
    "color_range = [-10,10]\n",
    "\n",
    "filepath = 'HTML/' + methods[to_use].title() + '.html'\n",
    "\n",
    "df_list = []\n",
    "for yer in years:\n",
    "    df_year = pd.read_csv('Final_Data/' + str(yer) + '/' + str(yer) + ' copy.csv')\n",
    "    df_list.append(df_year)\n",
    "\n",
    "i = 0\n",
    "for df_ in df_list:\n",
    "    df_ = df_.fillna(0)\n",
    "    seats = df_.loc[len(df_.index)-1].at['Seats']\n",
    "    populations = df_['Electors'][:-1]\n",
    "    result_1 = ap.Apportion(seats=seats, populations=populations, method=methods[to_use])\n",
    "    x = result_1.fair_shares\n",
    "    sum_ = sum(x)\n",
    "    x.append(sum_)\n",
    "    df_[methods[to_use]] = x\n",
    "    df_['Difference'] = df_[methods[to_use]] - df_['Seats']\n",
    "    df_list[i] = df_\n",
    "    i += 1\n",
    "\n",
    "def hover_text(df):\n",
    "    df['text'] = \"\"\n",
    "    for ind in df.index:\n",
    "        df['text'][ind] = \"No. of Seats:\" + str(df['Seats'][ind]) + \"<br> \" +methods[to_use].title()+' Allocation : ' + str(df[methods[to_use]][ind]) + \" \\n Quota:\" + str(df['Quota'][ind]) + \"\\n Electors:\" + str(df['Electors'][ind]) \n",
    "        \n",
    "for x in df_list:\n",
    "    hover_text(x)\n",
    "\n",
    "geojson_list = []\n",
    "for yer in years:\n",
    "    with open('/Users/sunidhisingh/Desktop/Coursework/COD300/Code/Geojson/' + str(yer) + '.json') as f:\n",
    "        gj = geojson.load(f)\n",
    "        gj = rewind(gj, rfc7946=False)\n",
    "    geojson_list.append(gj)\n",
    "\n",
    "data = []\n",
    "for i in range(0,len(df_list)):\n",
    "    temp_data = dict(type='choropleth', \n",
    "                    locations = df_list[i]['State/UT'].astype(str),\n",
    "                    z = df_list[i]['Difference'].astype(str),\n",
    "                    zmin=color_range[0], zmax=color_range[1],\n",
    "                    geojson = geojson_list[i],\n",
    "                    featureidkey='properties.ST_NM',\n",
    "                    text = df_list[i]['text']\n",
    "             ,colorscale = [[0, 'rgba(214, 39, 40, 0.85)'],   \n",
    "                   [0.5, 'rgba(255, 255, 255, 0.85)'],  \n",
    "                   [1, 'rgba(6,54,21, 0.85)']]  \n",
    "                    #,marker = dict( line = dict (color = 'rgb(255,255,255)', width = 1))\n",
    "                    #,colorbar = dict(title = \" Overrepresentation\")\n",
    "                    )\n",
    "    data.append(temp_data)\n",
    "    \n",
    "steps = []\n",
    "for i in range(len(data)):\n",
    "\tstep = dict(method='restyle',args=['visible', [j==i for j in range(len(data))]],label='Year {}'.format(years[i]))\n",
    "\tsteps.append(step)\n",
    "\n",
    "sliders = [dict(active=0, pad={\"t\": 1}, steps=steps)]\n",
    "layout = dict(sliders=sliders,geo = dict(fitbounds=\"locations\", visible=False), title = methods[to_use].title() + ' Allocation')\n",
    "fig = dict(data=data,layout=layout)\n",
    "\n",
    "\n",
    "# plotly.offline.iplot(fig)\n",
    "plotly.offline.plot(fig, filename=filepath,auto_open=False)"
   ]
  }
 ],
 "metadata": {
  "kernelspec": {
   "display_name": "Python 3.9.10 ('venv': venv)",
   "language": "python",
   "name": "python3"
  },
  "language_info": {
   "codemirror_mode": {
    "name": "ipython",
    "version": 3
   },
   "file_extension": ".py",
   "mimetype": "text/x-python",
   "name": "python",
   "nbconvert_exporter": "python",
   "pygments_lexer": "ipython3",
   "version": "3.9.10"
  },
  "orig_nbformat": 4,
  "vscode": {
   "interpreter": {
    "hash": "805c011a51fe97ca5d812a91ec4c25a591b42d176e2f6f834ada3171fa470fd3"
   }
  }
 },
 "nbformat": 4,
 "nbformat_minor": 2
}
